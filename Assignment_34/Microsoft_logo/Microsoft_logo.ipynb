{
 "cells": [
  {
   "cell_type": "code",
   "execution_count": 5,
   "metadata": {},
   "outputs": [],
   "source": [
    "import cv2\n",
    "import matplotlib.pyplot as plt\n",
    "import numpy as np \n",
    "from PIL import Image, ImageFont, ImageDraw \n",
    "# from font import add_font"
   ]
  },
  {
   "cell_type": "code",
   "execution_count": 6,
   "metadata": {},
   "outputs": [
    {
     "data": {
      "text/plain": [
       "<matplotlib.image.AxesImage at 0x25caeab04f0>"
      ]
     },
     "execution_count": 6,
     "metadata": {},
     "output_type": "execute_result"
    },
    {
     "data": {
      "image/png": "[encoded data removed]",
      "text/plain": [
       "<Figure size 640x480 with 1 Axes>"
      ]
     },
     "metadata": {},
     "output_type": "display_data"
    }
   ],
   "source": [
    "\n",
    "bg = np.ones(shape=(800,2300,3), dtype=np.int16) * 80\n",
    "background = bg.copy()\n",
    "\n",
    "background[200:380 , 200:380] = (245 , 80  , 35)\n",
    "background[200:380 , 400:580] = (130 , 186 ,  0)\n",
    "background[400:580 , 200:380] = (1   , 165 ,240)\n",
    "background[400:580 , 400:580] = (255 , 185 ,  1)\n",
    "\n",
    "plt.imshow(background  , cmap=\"gray\")\n"
   ]
  },
  {
   "cell_type": "code",
   "execution_count": 7,
   "metadata": {},
   "outputs": [],
   "source": [
    "# res = cv2.imread(\"Assignment_34\\logo.png\" , cv2.IMREAD_ANYCOLOR)\n",
    "# result = add_font(res)\n",
    "# plt.imshow(result)"
   ]
  }
 ],
 "metadata": {
  "kernelspec": {
   "display_name": "Python 3",
   "language": "python",
   "name": "python3"
  },
  "language_info": {
   "codemirror_mode": {
    "name": "ipython",
    "version": 3
   },
   "file_extension": ".py",
   "mimetype": "text/x-python",
   "name": "python",
   "nbconvert_exporter": "python",
   "pygments_lexer": "ipython3",
   "version": "3.10.1"
  },
  "orig_nbformat": 4
 },
 "nbformat": 4,
 "nbformat_minor": 2
}
