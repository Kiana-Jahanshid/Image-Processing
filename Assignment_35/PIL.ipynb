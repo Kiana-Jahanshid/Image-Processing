{
 "cells": [
  {
   "cell_type": "code",
   "execution_count": 23,
   "metadata": {},
   "outputs": [],
   "source": [
    "from PIL import Image, ImageDraw, ImageFont, ImageColor\n",
    "import arabic_reshaper\n",
    "from bidi.algorithm import get_display"
   ]
  },
  {
   "cell_type": "code",
   "execution_count": 24,
   "metadata": {},
   "outputs": [],
   "source": [
    "#Read a color image with PIL\n",
    "img = Image.open(\"input\\py.jpg\")"
   ]
  },
  {
   "cell_type": "code",
   "execution_count": 26,
   "metadata": {},
   "outputs": [],
   "source": [
    "#adding a persian text to image\n",
    "img = \"input\\py.jpg\"\n",
    "\n",
    "font = ImageFont.truetype(\"majalla.ttf\", 70)\n",
    "img = Image.open(img)\n",
    "\n",
    "reshaped_text = arabic_reshaper.reshape(\"پای لرن ۷\")   \n",
    "final_text = get_display(reshaped_text)           \n",
    "\n",
    "draw = ImageDraw.Draw(img)\n",
    "draw.text(xy= (70, 100), text= final_text, fill= (255,255,255), font= font )\n",
    "\n",
    "img.save(\"output.png\")"
   ]
  }
 ],
 "metadata": {
  "kernelspec": {
   "display_name": "Python 3",
   "language": "python",
   "name": "python3"
  },
  "language_info": {
   "codemirror_mode": {
    "name": "ipython",
    "version": 3
   },
   "file_extension": ".py",
   "mimetype": "text/x-python",
   "name": "python",
   "nbconvert_exporter": "python",
   "pygments_lexer": "ipython3",
   "version": "3.10.1"
  },
  "orig_nbformat": 4
 },
 "nbformat": 4,
 "nbformat_minor": 2
}
